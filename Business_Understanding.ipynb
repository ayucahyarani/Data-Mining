{
  "nbformat": 4,
  "nbformat_minor": 0,
  "metadata": {
    "colab": {
      "provenance": [],
      "authorship_tag": "ABX9TyON6+n7JE/dUAk4jGcRGgRV",
      "include_colab_link": true
    },
    "kernelspec": {
      "name": "python3",
      "display_name": "Python 3"
    },
    "language_info": {
      "name": "python"
    }
  },
  "cells": [
    {
      "cell_type": "markdown",
      "metadata": {
        "id": "view-in-github",
        "colab_type": "text"
      },
      "source": [
        "<a href=\"https://colab.research.google.com/github/ayucahyarani/Data-Mining/blob/main/Business_Understanding.ipynb\" target=\"_parent\"><img src=\"https://colab.research.google.com/assets/colab-badge.svg\" alt=\"Open In Colab\"/></a>"
      ]
    },
    {
      "cell_type": "markdown",
      "source": [
        "#Studi Kasus: Segmentasi Konsumen Berdasarkan Pola Pembeli dengan Sistem Cluster"
      ],
      "metadata": {
        "id": "CdTNhJCIrCgL"
      }
    },
    {
      "cell_type": "markdown",
      "source": [
        "## Business Understanding"
      ],
      "metadata": {
        "id": "5SRlcSZnrVrn"
      }
    },
    {
      "cell_type": "markdown",
      "source": [
        "### Tujuan Bisnis\n",
        "Tujuan dari penelitian ini adalah untuk mengidentifikasi target konsumen di mal berdasarkan pola pembelian mereka menggunakan metode clustering K-Means. Hal ini bertujuan untuk meningkatkan efektivitas strategi pemasaran dan promosi di mal.\n",
        "\n",
        "### Menilai Situasi\n",
        "Situasi yang dievaluasi adalah data pengunjung mal yang digunakan untuk segmentasi konsumen berdasarkan pola pembelian. Evaluasi ini membantu dalam memahami karakteristik konsumen dan kontribusi mereka terhadap mal.\n",
        "\n",
        "### Tujuan Data Mining\n",
        "Tujuan dari penerapan algoritma K-Means adalah untuk mengelompokkan data konsumen ke dalam klaster berdasarkan kesamaan fitur, sehingga memudahkan dalam memahami pola dan perilaku konsumen.\n",
        "\n",
        "### Perencanaan Proyek\n",
        "Perencanaan proyek meliputi tahapan pengumpulan data pengunjung mal, preprocessing data untuk mempersiapkan analisis, penerapan algoritma K-Means untuk segmentasi konsumen, dan analisis hasil clustering untuk mendukung pengambilan keputusan bisnis."
      ],
      "metadata": {
        "id": "1ZdX8TbzrtEy"
      }
    }
  ]
}