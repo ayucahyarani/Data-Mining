{
  "nbformat": 4,
  "nbformat_minor": 0,
  "metadata": {
    "colab": {
      "provenance": [],
      "authorship_tag": "ABX9TyON6+n7JE/dUAk4jGcRGgRV",
      "include_colab_link": true
    },
    "kernelspec": {
      "name": "python3",
      "display_name": "Python 3"
    },
    "language_info": {
      "name": "python"
    }
  },
  "cells": [
    {
      "cell_type": "markdown",
      "metadata": {
        "id": "view-in-github",
        "colab_type": "text"
      },
      "source": [
        "<a href=\"https://colab.research.google.com/github/ayucahyarani/Data-Mining/blob/main/Business_Understanding.ipynb\" target=\"_parent\"><img src=\"https://colab.research.google.com/assets/colab-badge.svg\" alt=\"Open In Colab\"/></a>"
      ]
    },
    {
      "cell_type": "markdown",
      "source": [
        "#Mengimplementasikan Konsep Segmentasi Pelanggan untuk menilai pelanggan mal berdasarkan perilaku dan data pembelian mereka."
      ],
      "metadata": {
        "id": "CdTNhJCIrCgL"
      }
    },
    {
      "cell_type": "markdown",
      "source": [
        "## Business Understanding"
      ],
      "metadata": {
        "id": "5SRlcSZnrVrn"
      }
    },
    {
      "cell_type": "markdown",
      "source": [
        "### Tujuan Bisnis\n",
        "Segmentasi pelanggan di mal bertujuan untuk memahami cara pelanggan berbelanja di mal. Tujuan utamanya adalah untuk memahami pelanggan lebih baik, meningkatkan pengalaman berbelanja, dan meningkatkan keuntungan.\n",
        "\n",
        "### Menilai Situasi\n",
        "Di mal, pelanggan memiliki kebiasaan berbelanja yang beragam. Dengan data tentang pelanggan seperti usia, jenis kelamin, dan pola pembelian, kita bisa mengetahui lebih banyak tentang preferensi mereka dan bagaimana kita bisa melayani mereka lebih baik.\n",
        "\n",
        "### Tujuan Data Mining\n",
        "Mengelompokkan pelanggan berdasarkan pola pembelian dan perilaku mereka
Mengidentifikasi kelompok pelanggan yang paling berharga untuk mal.
Mempelajari faktor-faktor yang memengaruhi tingkat pengeluaran pelanggan.\n",
        "\n",
        "### Perencanaan Proyek\n",
        "Mengumpulkan data tentang pelanggan seperti usia, jenis kelamin, dan pola pembelian.
Menganalisis data untuk melihat pola dan tren dalam perilaku belanja pelanggan.
Mengelompokkan pelanggan berdasarkan perilaku belanja mereka."
      ],
      "metadata": {
        "id": "1ZdX8TbzrtEy"
      }
    }
  ]
}
